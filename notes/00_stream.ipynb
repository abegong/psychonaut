{
 "cells": [
  {
   "cell_type": "code",
   "execution_count": 1,
   "metadata": {},
   "outputs": [],
   "source": [
    "# set the python path to the parent directory\n",
    "# this allows us to import from the psychonaut package\n",
    "import sys\n",
    "from pathlib import Path\n",
    "from pprint import pprint\n",
    "\n",
    "sys.path.append(str(Path.cwd().parent))"
   ]
  },
  {
   "cell_type": "code",
   "execution_count": 2,
   "metadata": {},
   "outputs": [],
   "source": [
    "retain = []\n",
    "def err_callback(i, msg):\n",
    "    retain.append((i, msg))"
   ]
  },
  {
   "cell_type": "code",
   "execution_count": 12,
   "metadata": {},
   "outputs": [
    {
     "data": {
      "text/plain": [
       "defaultdict(int, {('#commit', 1): 29005})"
      ]
     },
     "execution_count": 12,
     "metadata": {},
     "output_type": "execute_result"
    }
   ],
   "source": [
    "from psychonaut.firehose.serde import length_prefixed_iter, read_msg_pair\n",
    "from psychonaut.firehose.simple_reader import iter_events\n",
    "from collections import defaultdict\n",
    "import random\n",
    "\n",
    "sample_segment = Path(\"../../stream_length_prefixed/stream.1682780863.length-prefixed\")\n",
    "msgs = length_prefixed_iter(sample_segment)\n",
    "op_codes = defaultdict(int)\n",
    "sample = []\n",
    "for i, event in enumerate(iter_events(msgs, err_callback)):\n",
    "    op_codes[(event[0]['t'], event[0]['op'])] += 1\n",
    "    if random.random() < 0.001:\n",
    "        sample.append(event)\n",
    "\n",
    "op_codes"
   ]
  },
  {
   "cell_type": "code",
   "execution_count": 13,
   "metadata": {},
   "outputs": [
    {
     "data": {
      "text/plain": [
       "2"
      ]
     },
     "execution_count": 13,
     "metadata": {},
     "output_type": "execute_result"
    }
   ],
   "source": [
    "len(retain)"
   ]
  },
  {
   "cell_type": "code",
   "execution_count": 14,
   "metadata": {},
   "outputs": [
    {
     "ename": "OSError",
     "evalue": "Failed to read full buffer",
     "output_type": "error",
     "traceback": [
      "\u001b[0;31m---------------------------------------------------------------------------\u001b[0m",
      "\u001b[0;31mOSError\u001b[0m                                   Traceback (most recent call last)",
      "Cell \u001b[0;32mIn[14], line 5\u001b[0m\n\u001b[1;32m      1\u001b[0m \u001b[39mfrom\u001b[39;00m \u001b[39mpsychonaut\u001b[39;00m\u001b[39m.\u001b[39;00m\u001b[39mfirehose\u001b[39;00m\u001b[39m.\u001b[39;00m\u001b[39mcar\u001b[39;00m \u001b[39mimport\u001b[39;00m read_car\n\u001b[1;32m      4\u001b[0m error_target \u001b[39m=\u001b[39m retain[\u001b[39m-\u001b[39m\u001b[39m1\u001b[39m]\n\u001b[0;32m----> 5\u001b[0m read_car(error_target[\u001b[39m1\u001b[39;49m])\n",
      "File \u001b[0;32m~/Social/bluesky/psychonaut/psychonaut/firehose/car.py:38\u001b[0m, in \u001b[0;36mread_car\u001b[0;34m(blocks, validate)\u001b[0m\n\u001b[1;32m     31\u001b[0m \u001b[39m\u001b[39m\u001b[39m\"\"\"\u001b[39;00m\n\u001b[1;32m     32\u001b[0m \u001b[39mRead a car file into a list of blocks.\u001b[39;00m\n\u001b[1;32m     33\u001b[0m \n\u001b[1;32m     34\u001b[0m \u001b[39m:param blocks: the car bytes\u001b[39;00m\n\u001b[1;32m     35\u001b[0m \u001b[39m:param validate: if True, validate the roots against the blocks\u001b[39;00m\n\u001b[1;32m     36\u001b[0m \u001b[39m\"\"\"\u001b[39;00m\n\u001b[1;32m     37\u001b[0m \u001b[39mwith\u001b[39;00m io\u001b[39m.\u001b[39mBufferedReader(io\u001b[39m.\u001b[39mBytesIO(blocks)) \u001b[39mas\u001b[39;00m block_fp:\n\u001b[0;32m---> 38\u001b[0m     roots \u001b[39m=\u001b[39m _get_roots(block_fp)\n\u001b[1;32m     39\u001b[0m     blocks \u001b[39m=\u001b[39m read_blocks(block_fp)\n\u001b[1;32m     40\u001b[0m     \u001b[39mreturn\u001b[39;00m roots, blocks\n",
      "File \u001b[0;32m~/Social/bluesky/psychonaut/psychonaut/firehose/car.py:107\u001b[0m, in \u001b[0;36m_get_roots\u001b[0;34m(block_fp)\u001b[0m\n\u001b[1;32m    106\u001b[0m \u001b[39mdef\u001b[39;00m \u001b[39m_get_roots\u001b[39m(block_fp: io\u001b[39m.\u001b[39mBufferedReader) \u001b[39m-\u001b[39m\u001b[39m>\u001b[39m List[CID]:\n\u001b[0;32m--> 107\u001b[0m     header_buf \u001b[39m=\u001b[39m _ld_read(block_fp)\n\u001b[1;32m    108\u001b[0m     \u001b[39mif\u001b[39;00m \u001b[39mnot\u001b[39;00m header_buf:\n\u001b[1;32m    109\u001b[0m         \u001b[39mraise\u001b[39;00m \u001b[39mEOFError\u001b[39;00m(\u001b[39m\"\u001b[39m\u001b[39mUnexpected EOF\u001b[39m\u001b[39m\"\u001b[39m)\n",
      "File \u001b[0;32m~/Social/bluesky/psychonaut/psychonaut/firehose/car.py:193\u001b[0m, in \u001b[0;36m_ld_read\u001b[0;34m(reader)\u001b[0m\n\u001b[1;32m    191\u001b[0m buf \u001b[39m=\u001b[39m reader\u001b[39m.\u001b[39mread(buf_size)\n\u001b[1;32m    192\u001b[0m \u001b[39mif\u001b[39;00m \u001b[39mlen\u001b[39m(buf) \u001b[39m!=\u001b[39m buf_size:\n\u001b[0;32m--> 193\u001b[0m     \u001b[39mraise\u001b[39;00m \u001b[39mIOError\u001b[39;00m(\u001b[39m\"\u001b[39m\u001b[39mFailed to read full buffer\u001b[39m\u001b[39m\"\u001b[39m)\n\u001b[1;32m    195\u001b[0m \u001b[39mreturn\u001b[39;00m buf\n",
      "\u001b[0;31mOSError\u001b[0m: Failed to read full buffer"
     ]
    }
   ],
   "source": [
    "from psychonaut.firehose.car import read_car\n",
    "\n",
    "\n",
    "error_target = retain[-1]\n",
    "read_car(error_target[1])"
   ]
  },
  {
   "cell_type": "code",
   "execution_count": 18,
   "metadata": {},
   "outputs": [
    {
     "data": {
      "text/plain": [
       "117"
      ]
     },
     "execution_count": 18,
     "metadata": {},
     "output_type": "execute_result"
    }
   ],
   "source": [
    "len(error_target[1])"
   ]
  },
  {
   "cell_type": "code",
   "execution_count": 15,
   "metadata": {},
   "outputs": [
    {
     "data": {
      "text/plain": [
       "({'t': '#commit', 'op': 1},\n",
       " {'ops': [{'cid': CID('base58btc', 1, 'dag-cbor', '1220427c6e8599870c68566ef338994b153ce5235ff6f7c6384f75e15bd29a6f46a2'),\n",
       "    'path': 'app.bsky.feed.like/3jujfu2b2lt2g',\n",
       "    'action': 'create'}],\n",
       "  'seq': 8982051,\n",
       "  'prev': CID('base58btc', 1, 'dag-cbor', '1220ea8071132b4749c9370cc985329f9bd13cf74d499b570ce07bb308f5e4e55f8f'),\n",
       "  'repo': 'did:plc:tnvlrgeen4b5y4uzmvnrljb5',\n",
       "  'time': '2023-04-29T15:07:50.397Z',\n",
       "  'blobs': [],\n",
       "  'blocks': b':\\xa2eroots\\x81\\xd8*X%\\x00\\x01q\\x12 \\xecd\\xf0\\xc1\\x84*\\xf69\\xfdL\\xe2p 7\\x08U(\\xc9\\x04\\x16\\x9c\\xd9>f\\xf0\\x9f\\xc4bj\\xb0\\x7f\\xe1gversion\\x01\\xf8\\x01\\x01q\\x12 B|n\\x85\\x99\\x87\\x0chVn\\xf38\\x99K\\x15<\\xe5#_\\xf6\\xf7\\xc68Ou\\xe1[\\xd2\\x9aoF\\xa2\\xa3e$typerapp.bsky.feed.likegsubject\\xa2ccidx;bafyreigwjojfw3fthyrzxagnjm5wm2jn2f2ozcmwh3r2k65h4glg7fvqwacurixFat://did:plc:oky5czdrnfjpqslsw2a5iclo/app.bsky.feed.post/3juhxymund22ricreatedAtx\\x182023-04-29T15:07:50.211Z\\xf4\\x04\\x01q\\x12 \\xfa\\x9f\\x19\\x96\\xd8~\\x94\\x12\\xd8\\xb6\\xa7^D\\xa2\\x06\\xa3 \\xf7P\\xa1~\\x83\\x92\\x83`\\x7f\\x14\\xfer=\\x93\\x1f\\xa2ae\\x85\\xa4akX app.bsky.feed.like/3juhamzdblz2hap\\x00at\\xd8*X%\\x00\\x01q\\x12 \\xa3\\x0b7\\xc0\\n\\xdfJ\\xce\\xd6\\xfd\\xf0\\xb7T%\\xc4-\\xe3\\xcbg\\xddE\\x0b\\xd1-\\x12U\\x0cop2\\xd3\\xacav\\xd8*X%\\x00\\x01q\\x12 \\x0e*(5w\\xc2\\x84\\xf5Z\\xe9\\x91\\x97Q\\xf9\\xeb\\xdcM\\x8bw\\xe8gQ\\xbe\\x94\\xb1\\x9a8q\\xf8\\x9dN|\\xa4akJibmhum6c2yap\\x16at\\xd8*X%\\x00\\x01q\\x12 \\xc3\\xb6\\xd7\\x9ar\\x1fB\\xac\"\\xe3\\x92\\xdc=Y\\xd4\\xf9\\xc6\\xc4\\x91*M3Gkf\\x87FC4\\xday$av\\xd8*X%\\x00\\x01q\\x12 du\\xfe\\xba\\x88\\xc0L\\x84c\\xc7\\xe0mgYy\\xa3\\xbd\\x8f(\\x05\\xfd\\xab\\x0f\\xa9\\xae\\xfe\\xab\\x08$\\xd3\\xfa\\x9e\\xa4akIfq6iklm2yap\\x17at\\xd8*X%\\x00\\x01q\\x12 _\\xe3\\xc8+\\x9b\\xe5\\xc09\\x08g\\xd5\\x85[\\xd7^\\x8f\\xbc\\xcf^o\\xbd\\x86\\x8c\\r8\\xf2\\xd3Jc\\xfa\\xe1\\xc0av\\xd8*X%\\x00\\x01q\\x12 \\xb4Ndth\\r\\x1c\\x86\\xfa\\xa7_\\x1c\\xc30\\x9e%y-g\\xf2\\xf0s9u\\xfc\\x1bs\\xb0\"\\xd5.\\xcf\\xa4akRpost/3juhggscava2eap\\x0eat\\xd8*X%\\x00\\x01q\\x12 u\\xdan\\xccXkBI\\xd3Z\\n\\xecB\\xff\\x10\\xc3z)\\x9ag?tK\\x9eK \\xa5x\\xde\\x18\\xc2bav\\xd8*X%\\x00\\x01q\\x12 \\x16#\\xb5\\x05\\xc6e*\\x85\\x82\\xdb\\xd6\\x18\\xb1e,VH\\xd1\\x98\\xad\\x13\\xe5r\\x8aQN46\\x99%\\xb9-\\xa4akJiotnzn4k2sap\\x16at\\xd8*X%\\x00\\x01q\\x12 \\x88\\xb30\\xf60Q_rZ\\x83=\\xfd\\xd9{X;\\x874^\\r8\\'\\x13\\x7f\\x93r\\x95\\xd9]P\\xa3\\x03av\\xd8*X%\\x00\\x01q\\x12 \\xfabJ8\\\\\\xa5+}\\x19\\x97Q\\x9a\\x07t\\xe0U\\x89\\xbe\\xda\\xe7\\x01G\\xc9>\\x85z4\\xe8.\\xca\\xfa9al\\xd8*X%\\x00\\x01q\\x12 %\\xf5\\xc6\\xdcu5\\x1eI\\x80u\\x84\\x85z\\xa3\\x86\\xcc@JU\\xc5\\xa8\"\\xe4\\xf1{\\xc2\\xf4\\x06\\xd9\\xe9B\\xb2\\xfe\\x02\\x01q\\x12 _\\xe3\\xc8+\\x9b\\xe5\\xc09\\x08g\\xd5\\x85[\\xd7^\\x8f\\xbc\\xcf^o\\xbd\\x86\\x8c\\r8\\xf2\\xd3Jc\\xfa\\xe1\\xc0\\xa2ae\\x83\\xa4akX app.bsky.feed.like/3juifvwuvdc23ap\\x00at\\xd8*X%\\x00\\x01q\\x12 \\xf9#D\\xf6C\\x94+\\xdbE\\xb3:\\x1f\\x13\\x08-Q\\xa7V\\xb6\\xd2\\x1c\\xe2\\x02\\xda\\xb8xd\\x8a\\xdfQ\\xad\\xedav\\xd8*X%\\x00\\x01q\\x12 \\xed\\x87\\xf0\\x01L\\xb8|.\\x17F\\x08\\x9b\\x02\\x93\\x948\\xf9Q\\xee\\rd\\xe7I\\xe0\\x14b\\xef\\xfd\\xec\\x89\\xa8\\x95\\xa4akRpost/3jufnlex7in2oap\\x0eat\\xd8*X%\\x00\\x01q\\x12 \\xef\\xa0\\xe6\\x87\\xdc\\xd3\\x81y\\x88E\\xbf\\x86\\x1b!\\x84\\xb3t4d\\xbf\\x10H\\xbb\\xbf\\xe5\\x84Vx X\\xf1\\x84av\\xd8*X%\\x00\\x01q\\x12 \\xc0?\\xed-8\\xc6\\x02\\xb2\\xaf\\xe1\\xe5C\\x9b\\xca@\\r\\xad@\\n0\\x96\\x9e\\nM>\\x96\\x04d\\xf9\\xe9\\xe0\\xcd\\xa4akIqbmptio2lap\\x17at\\xd8*X%\\x00\\x01q\\x12 S:F\\x17\\x8cnP]\\xb4\\xa7\\x12\\xe1\\xa7~miB\\xbbqf\\xc1Oc\\x90\\x08Z\\x01%6\\xfd\\x16#av\\xd8*X%\\x00\\x01q\\x12 C\\x90\\n\\x1c\\x84n\\x08\\x04vcb\\xc6\\x9e\\xe6n\\x7f\\xbdx\\xc0\\xc3\\xfeX\\xc0\\xf8\\x9c\\xd11\\x10\\xf1wPFal\\xf6\\xc0\\x02\\x01q\\x12 \\xf9#D\\xf6C\\x94+\\xdbE\\xb3:\\x1f\\x13\\x08-Q\\xa7V\\xb6\\xd2\\x1c\\xe2\\x02\\xda\\xb8xd\\x8a\\xdfQ\\xad\\xed\\xa2ae\\x82\\xa4akX app.bsky.feed.like/3juiouq3vyf23ap\\x00at\\xd8*X%\\x00\\x01q\\x12 +\\x8a\\'\\x11#\\xadDz\\x90\\x1b\\x83\\r\\x11q\\xf8\\xd4E\\x1f\\x1asf\\x1f\\x8c\\xe9q\\x84\\xf79\\xab\\xbc\\xe52av\\xd8*X%\\x00\\x01q\\x12 \\xffh\\xabFsVb60Mr\\x8e<4\\xbc\\'\\xf5\\x9e\\xf6]\\x7f\\x9f\\xa8S\\x88\\x1e\\xae\\x9an\\x1f\\x95\\xeb\\xa4akRpost/3jufn52fe532rap\\x0eat\\xd8*X%\\x00\\x01q\\x12 \\xfbR\\xfe\\xe3\\xe1\\x04f\\xb1\\xfc\\x0eJ\\x18\\x16e\\x85\\xed\\xd6\\x80.\\t\\x13\\x87.\\xd9\\xe1\\xc5\\xe3\\xca\\x07\\x03FAav\\xd8*X%\\x00\\x01q\\x12 K1\\x7fO@\\xbd\\x06\\xe7\\xcd\\xed\\xac,DZ\\xd5\\x82\\x04\\xa6V\\xbd\\xa2-\\xa8\\x10z\\x99\\xe6\\xc1\\\\\\xce<bal\\xd8*X%\\x00\\x01q\\x12 T\\x82\\xd5\\xcf\\x08\\xfa\\x9e\\r\\x0f\\xbc\\xab%\\x07\\xf2\\xd4\\x19\\xf0\\xc5ZE\\xa0Gx\\xd2\\xac^\"\\x87\\xca\\x05\\xb0\\x84\\xf5\\x08\\x01q\\x12 +\\x8a\\'\\x11#\\xadDz\\x90\\x1b\\x83\\r\\x11q\\xf8\\xd4E\\x1f\\x1asf\\x1f\\x8c\\xe9q\\x84\\xf79\\xab\\xbc\\xe52\\xa2ae\\x8c\\xa4akX app.bsky.feed.like/3juiov5z2vs2sap\\x00at\\xd8*X%\\x00\\x01q\\x12 ^3\\xb1V\\xf8\\xe7T\\xaa\\x8fh^`^\\xad\\x9e\\xadq#>\\x1dOI;.^\\xfcZ!\\xa8\\xc2\\xf6iav\\xd8*X%\\x00\\x01q\\x12 \\xe4E\\x13\\xd1\\xed\\xaa\\xa3,\\xb4\\xbf\\xf7\\x13V\\xc3\\x93Yyt\\xfaE\\t\\x05\\xf9\\xd09\\xd6a\\x1b\\x8e\\xf79\\xae\\xa4akIprtnnvv2rap\\x17at\\xd8*X%\\x00\\x01q\\x12 \\x14\\xdc\\x9e\\xa2\\xef\\x93+P2\\x1f\\x04)T/\\x13\\xaa\\x8c\\x02RU\\xfcu\\xe5\\xed\\xd2\\xf0\\xfb4-.?\\x1dav\\xd8*X%\\x00\\x01q\\x12 \\xc9\\xd5\\xe8\\xe9X<\\x9ej\\xd6:d\\x10\\xa1J\\xb6&\\x12F\\xc8\\x00\\x9e\\x9a\\xe4\\xf8  \\xb6\\xe1WWO\\x91\\xa4akIqacqlxw2lap\\x17at\\xf6av\\xd8*X%\\x00\\x01q\\x12 Oz\\xc9X\\xb2/\\x83\\xf7\\xe3\\xe0\\xa1a%\\xaa\\xe5\\x9cyd2\"\\x8d1\\xea(\\xfe\\x98\\xae\\x88\\xe7(\\x01)\\xa4akIrd2mcqj2sap\\x17at\\xd8*X%\\x00\\x01q\\x12 \\x85K(\\x9bu\\x99\\x16u\\xecU@`\\x98Z\\x96\\xab$\\x98\\xc6\\x0e\\xff\\t\\x89L+\\xd8g\\x9c\\x9dh\\xf9Zav\\xd8*X%\\x00\\x01q\\x12 5\\xbd\"g\\xe0\\xd8\\xb0\\xdd%b{[\\xaf\\xab\\x85u\\x97k\\xc0QP\\xecJ\\x12\\x87\\x9fN\\x8a\\x13\\xc0\\xb0\\x80\\xa4akJjfev7cia26ap\\x16at\\xd8*X%\\x00\\x01q\\x12 \\x88\\x84\\xdf\\x02ev\\x93\\xf6\\x07M\\x87\\xd7\\x075>C\\xa9G\\x05\\x9fY4R)K\\xf6\\xa9\\xca\\xa5\\xda\\x80\\x8eav\\xd8*X%\\x00\\x01q\\x12 Y\\xc3\\xcb\\x12h\\x18\\xcb\\x1dq\\xbbA\\x87m\\xca\\xd2[\\xc5:-e\"\\xae\\xdc\\xaa\\x18\\n\\x10iy\\x1a.9\\xa4akRpost/3jufm4ea7jf2oap\\x0eat\\xd8*X%\\x00\\x01q\\x12 \\xa5y=\\x97\\xdbwM\\xf2[\\xff\\xc7\\xd6d\\xdf\\x87%\\xdd\\x91!\\x17\\xd98j\\x7f\\xc5\\xe7\\xfclJ@\\xc1\\x86av\\xd8*X%\\x00\\x01q\\x12 (1\\x1f,\\xa98r!\\x00\\xba.W\\x94\\xa1\\xfd\\xe4\\xd0\\xd8\\xf2\\xdcI\\xd9\\x97\\xdf\\xce6.G\\x99\\x1f\\xa2\\xbf\\xa4akHiijykk2oap\\x18\\x18at\\xf6av\\xd8*X%\\x00\\x01q\\x12 \\xb5\\x92p=\\xc6\\'*\\x00K\\x899\\x1884W\\xf0~\\xaf0m\\x97Z\\x1e{m\\xb0\\xb0*\\xe9\\xc8\\x14\\x7f\\xa4akHj4x3rm2pap\\x18\\x18at\\xd8*X%\\x00\\x01q\\x12 3\\xcc\\xb0\\x11\\xeb\\x1c\\x87b\\x9f\\xa7\\xd3\\xb7\\xc0\\xe4Tg\\xebHO\\xe9Y0\\x04w\\xc5U\\xfd\\xff4>\\x8c\\x1bav\\xd8*X%\\x00\\x01q\\x12 \\x07!j\\x7f\\xb2\\x80P\\xa38\\x16\\xd5\\x1eG\\ty\\xf75F9C{\\x9b\\xd6\\x14\\x10C\\xc1\\xe6\\xdd\\xd3>[\\xa4akHktcutg2zap\\x18\\x18at\\xd8*X%\\x00\\x01q\\x12 \\xe7\\x08\\x04\\xea\\xaaJS\\'\\xa0\\xeb\\xd7\\xb6\\x85\\xf6\\xbf\\xd1\\xc1g\\x18\\\\\\xc4\\xc1l\\x94m\\x81\\xca\\xec\\xda\\x05u\\x98av\\xd8*X%\\x00\\x01q\\x12 \\xa7\\xac% O\\xc9}\\xf3\\xcf\\x87\\xdf\\x19{\\x19\\xf2\\x15\\xa5\\xb3W\\xe0F\\x85\\x0c\\x9f\\x7f\\xd3<\\x84>z\\x0c6\\xa4akHmoy3l22eap\\x18\\x18at\\xf6av\\xd8*X%\\x00\\x01q\\x12 \\xf5Z}\\xf1>T\\xe7\\x8bPu\\x133\\xb5~2f\\xef\\xcf,6)\\x910\\xc7&\\xa3(\\xa2\\x16\\n\\x0f\\x80\\xa4akHonmswt2eap\\x18\\x18at\\xd8*X%\\x00\\x01q\\x12 \\\\\\x8b\\x96Fc\\xa8\\xdaT\\x06\\xccrp\\xe1\\n\\xa3m\\xd1\\x07q\\x07\\xa3\\xb5\\xa6>\\xf6\\x83{@\\xd8\\x1c\\x10 av\\xd8*X%\\x00\\x01q\\x12 \\r/R*\\xe6MK\\x1ak\\x10Ky\\x9d\\xbb\\xfe\\xda\\xe8\\x9a\\x84\\xe0\\x82\\xf9H\\xee\\x03H5S\\x02\\xda`\\xb6\\xa4akIn3giuzn2kap\\x17at\\xf6av\\xd8*X%\\x00\\x01q\\x12 \\xe7\\x0f\\x18\\xff\\xf1H\\x94BT\\x7fsE\\x8e\\'\\xa0\\x80s\\xc2\\xfd3\\xd94\\x18\\xc0A\\xd2F\\xc6@\\nR\\x87al\\xf6\\xfd\\x03\\x01q\\x12 \\x88\\x84\\xdf\\x02ev\\x93\\xf6\\x07M\\x87\\xd7\\x075>C\\xa9G\\x05\\x9fY4R)K\\xf6\\xa9\\xca\\xa5\\xda\\x80\\x8e\\xa2ae\\x87\\xa4akX app.bsky.feed.like/3jujfp7aqtm2sap\\x00at\\xf6av\\xd8*X%\\x00\\x01q\\x12 \"b\\xa81zbH-\\r\\x95yi\\xf4\\xca\\xfc\\xee\\x9f6\\x87\\xe7\\xab\\x0fw\\xca\\x13x\\xd8\\x9f^\\xd2\\xf1\\x94\\xa4akGomexo24ap\\x18\\x19at\\xf6av\\xd8*X%\\x00\\x01q\\x12 B$\\x98\\'\\xe1\\x970\\xeb\\x7f\\x91\\xc0o\\xa8{\\xdd\\x11\\xd3O\\x16\\xc7;\\xa4V\\x9e\\xacq+\\xeb>_\\xfb\\xbc\\xa4akHu2b2lt2gap\\x18\\x18at\\xf6av\\xd8*X%\\x00\\x01q\\x12 B|n\\x85\\x99\\x87\\x0chVn\\xf38\\x99K\\x15<\\xe5#_\\xf6\\xf7\\xc68Ou\\xe1[\\xd2\\x9aoF\\xa2\\xa4akRpost/3jufluij2un2oap\\x0eat\\xf6av\\xd8*X%\\x00\\x01q\\x12 f2H\\xd4\\x19\\xb0j\\xea\\xac\\xbe\\xb9\\xb6\\x04i\\tx\\x00\\xb4\\xfc\\xc2r\\xcc6Z0\\x98$\\xa8l\\xad\\xcb1\\xa4akHz775jw2oap\\x18\\x18at\\xf6av\\xd8*X%\\x00\\x01q\\x12 \\xa9\\x93\\x1a\\xb5%\\x1ac\\\\C\\xf6C\\xb1\\x81\\xd3\\xc9\\xa4\\xb1.O\\xd3\\xd6^\\xf2\\x83s~\\xa8\\xb2m\\xc8<\\xe8\\xa4akIm26nnee2pap\\x17at\\xf6av\\xd8*X%\\x00\\x01q\\x12 H\\xc8\\xaeJ%\\x84\\xffe\\xdb(D\\xb9\\xf6\\x9f\\xcf\\x84s\\xa8wq\\x8a\\x87\\x1d\\x06\\xcf_ySV\\x1d\\xbb\\x0e\\xa4akH46suvp2aap\\x18\\x18at\\xf6av\\xd8*X%\\x00\\x01q\\x12 P\\xbd\\x95\\x117ar\\xcb*\\xfa=\\xf4`\\x15\\xc8O\\xff\\xe9T\\xdb\\xaa\\xbc\\x04\\xc8\\x10\\xd8@\\xf5E\\x99\\x0cBal\\xf6\\xf6\\x01\\x01q\\x12 \\xecd\\xf0\\xc1\\x84*\\xf69\\xfdL\\xe2p 7\\x08U(\\xc9\\x04\\x16\\x9c\\xd9>f\\xf0\\x9f\\xc4bj\\xb0\\x7f\\xe1\\xa5cdidx did:plc:tnvlrgeen4b5y4uzmvnrljb5csigX@\\xd7;\\xc3\\x16vGn\\xbd&YpL\\x9a\\x81z4\\xf4\\xe6\\xd7\\xac\\xa9\\xe8\\x16\\x1c\\x0fE]c\\xf1~\\xa8\\xa56\\x0cs\\xe1\\xf6q\\x0e\\xa6{\\xe1\\x05F\\xa9\\xb13qrO\\xb4q\\x16\\xa0\\\\*G\"|\\x95XZ\\xfa\\x1cddata\\xd8*X%\\x00\\x01q\\x12 \\xfa\\x9f\\x19\\x96\\xd8~\\x94\\x12\\xd8\\xb6\\xa7^D\\xa2\\x06\\xa3 \\xf7P\\xa1~\\x83\\x92\\x83`\\x7f\\x14\\xfer=\\x93\\x1fdprev\\xd8*X%\\x00\\x01q\\x12 \\xea\\x80q\\x13+GI\\xc97\\x0c\\xc9\\x852\\x9f\\x9b\\xd1<\\xf7MI\\x9bW\\x0c\\xe0{\\xb3\\x08\\xf5\\xe4\\xe5_\\x8fgversion\\x02',\n",
       "  'commit': CID('base58btc', 1, 'dag-cbor', '1220ec64f0c1842af639fd4ce2702037085528c904169cd93e66f09fc4626ab07fe1'),\n",
       "  'rebase': False,\n",
       "  'tooBig': False},\n",
       " [CID('base58btc', 1, 'dag-cbor', '1220ec64f0c1842af639fd4ce2702037085528c904169cd93e66f09fc4626ab07fe1')],\n",
       " [Block(cid=CID('base58btc', 1, 'dag-cbor', '1220427c6e8599870c68566ef338994b153ce5235ff6f7c6384f75e15bd29a6f46a2'), data=b'\\xa3e$typerapp.bsky.feed.likegsubject\\xa2ccidx;bafyreigwjojfw3fthyrzxagnjm5wm2jn2f2ozcmwh3r2k65h4glg7fvqwacurixFat://did:plc:oky5czdrnfjpqslsw2a5iclo/app.bsky.feed.post/3juhxymund22ricreatedAtx\\x182023-04-29T15:07:50.211Z'),\n",
       "  Block(cid=CID('base58btc', 1, 'dag-cbor', '1220fa9f1996d87e9412d8b6a75e44a206a320f750a17e839283607f14fe723d931f'), data=b'\\xa2ae\\x85\\xa4akX app.bsky.feed.like/3juhamzdblz2hap\\x00at\\xd8*X%\\x00\\x01q\\x12 \\xa3\\x0b7\\xc0\\n\\xdfJ\\xce\\xd6\\xfd\\xf0\\xb7T%\\xc4-\\xe3\\xcbg\\xddE\\x0b\\xd1-\\x12U\\x0cop2\\xd3\\xacav\\xd8*X%\\x00\\x01q\\x12 \\x0e*(5w\\xc2\\x84\\xf5Z\\xe9\\x91\\x97Q\\xf9\\xeb\\xdcM\\x8bw\\xe8gQ\\xbe\\x94\\xb1\\x9a8q\\xf8\\x9dN|\\xa4akJibmhum6c2yap\\x16at\\xd8*X%\\x00\\x01q\\x12 \\xc3\\xb6\\xd7\\x9ar\\x1fB\\xac\"\\xe3\\x92\\xdc=Y\\xd4\\xf9\\xc6\\xc4\\x91*M3Gkf\\x87FC4\\xday$av\\xd8*X%\\x00\\x01q\\x12 du\\xfe\\xba\\x88\\xc0L\\x84c\\xc7\\xe0mgYy\\xa3\\xbd\\x8f(\\x05\\xfd\\xab\\x0f\\xa9\\xae\\xfe\\xab\\x08$\\xd3\\xfa\\x9e\\xa4akIfq6iklm2yap\\x17at\\xd8*X%\\x00\\x01q\\x12 _\\xe3\\xc8+\\x9b\\xe5\\xc09\\x08g\\xd5\\x85[\\xd7^\\x8f\\xbc\\xcf^o\\xbd\\x86\\x8c\\r8\\xf2\\xd3Jc\\xfa\\xe1\\xc0av\\xd8*X%\\x00\\x01q\\x12 \\xb4Ndth\\r\\x1c\\x86\\xfa\\xa7_\\x1c\\xc30\\x9e%y-g\\xf2\\xf0s9u\\xfc\\x1bs\\xb0\"\\xd5.\\xcf\\xa4akRpost/3juhggscava2eap\\x0eat\\xd8*X%\\x00\\x01q\\x12 u\\xdan\\xccXkBI\\xd3Z\\n\\xecB\\xff\\x10\\xc3z)\\x9ag?tK\\x9eK \\xa5x\\xde\\x18\\xc2bav\\xd8*X%\\x00\\x01q\\x12 \\x16#\\xb5\\x05\\xc6e*\\x85\\x82\\xdb\\xd6\\x18\\xb1e,VH\\xd1\\x98\\xad\\x13\\xe5r\\x8aQN46\\x99%\\xb9-\\xa4akJiotnzn4k2sap\\x16at\\xd8*X%\\x00\\x01q\\x12 \\x88\\xb30\\xf60Q_rZ\\x83=\\xfd\\xd9{X;\\x874^\\r8\\'\\x13\\x7f\\x93r\\x95\\xd9]P\\xa3\\x03av\\xd8*X%\\x00\\x01q\\x12 \\xfabJ8\\\\\\xa5+}\\x19\\x97Q\\x9a\\x07t\\xe0U\\x89\\xbe\\xda\\xe7\\x01G\\xc9>\\x85z4\\xe8.\\xca\\xfa9al\\xd8*X%\\x00\\x01q\\x12 %\\xf5\\xc6\\xdcu5\\x1eI\\x80u\\x84\\x85z\\xa3\\x86\\xcc@JU\\xc5\\xa8\"\\xe4\\xf1{\\xc2\\xf4\\x06\\xd9\\xe9B\\xb2'),\n",
       "  Block(cid=CID('base58btc', 1, 'dag-cbor', '12205fe3c82b9be5c0390867d5855bd75e8fbccf5e6fbd868c0d38f2d34a63fae1c0'), data=b'\\xa2ae\\x83\\xa4akX app.bsky.feed.like/3juifvwuvdc23ap\\x00at\\xd8*X%\\x00\\x01q\\x12 \\xf9#D\\xf6C\\x94+\\xdbE\\xb3:\\x1f\\x13\\x08-Q\\xa7V\\xb6\\xd2\\x1c\\xe2\\x02\\xda\\xb8xd\\x8a\\xdfQ\\xad\\xedav\\xd8*X%\\x00\\x01q\\x12 \\xed\\x87\\xf0\\x01L\\xb8|.\\x17F\\x08\\x9b\\x02\\x93\\x948\\xf9Q\\xee\\rd\\xe7I\\xe0\\x14b\\xef\\xfd\\xec\\x89\\xa8\\x95\\xa4akRpost/3jufnlex7in2oap\\x0eat\\xd8*X%\\x00\\x01q\\x12 \\xef\\xa0\\xe6\\x87\\xdc\\xd3\\x81y\\x88E\\xbf\\x86\\x1b!\\x84\\xb3t4d\\xbf\\x10H\\xbb\\xbf\\xe5\\x84Vx X\\xf1\\x84av\\xd8*X%\\x00\\x01q\\x12 \\xc0?\\xed-8\\xc6\\x02\\xb2\\xaf\\xe1\\xe5C\\x9b\\xca@\\r\\xad@\\n0\\x96\\x9e\\nM>\\x96\\x04d\\xf9\\xe9\\xe0\\xcd\\xa4akIqbmptio2lap\\x17at\\xd8*X%\\x00\\x01q\\x12 S:F\\x17\\x8cnP]\\xb4\\xa7\\x12\\xe1\\xa7~miB\\xbbqf\\xc1Oc\\x90\\x08Z\\x01%6\\xfd\\x16#av\\xd8*X%\\x00\\x01q\\x12 C\\x90\\n\\x1c\\x84n\\x08\\x04vcb\\xc6\\x9e\\xe6n\\x7f\\xbdx\\xc0\\xc3\\xfeX\\xc0\\xf8\\x9c\\xd11\\x10\\xf1wPFal\\xf6'),\n",
       "  Block(cid=CID('base58btc', 1, 'dag-cbor', '1220f92344f643942bdb45b33a1f13082d51a756b6d21ce202dab878648adf51aded'), data=b'\\xa2ae\\x82\\xa4akX app.bsky.feed.like/3juiouq3vyf23ap\\x00at\\xd8*X%\\x00\\x01q\\x12 +\\x8a\\'\\x11#\\xadDz\\x90\\x1b\\x83\\r\\x11q\\xf8\\xd4E\\x1f\\x1asf\\x1f\\x8c\\xe9q\\x84\\xf79\\xab\\xbc\\xe52av\\xd8*X%\\x00\\x01q\\x12 \\xffh\\xabFsVb60Mr\\x8e<4\\xbc\\'\\xf5\\x9e\\xf6]\\x7f\\x9f\\xa8S\\x88\\x1e\\xae\\x9an\\x1f\\x95\\xeb\\xa4akRpost/3jufn52fe532rap\\x0eat\\xd8*X%\\x00\\x01q\\x12 \\xfbR\\xfe\\xe3\\xe1\\x04f\\xb1\\xfc\\x0eJ\\x18\\x16e\\x85\\xed\\xd6\\x80.\\t\\x13\\x87.\\xd9\\xe1\\xc5\\xe3\\xca\\x07\\x03FAav\\xd8*X%\\x00\\x01q\\x12 K1\\x7fO@\\xbd\\x06\\xe7\\xcd\\xed\\xac,DZ\\xd5\\x82\\x04\\xa6V\\xbd\\xa2-\\xa8\\x10z\\x99\\xe6\\xc1\\\\\\xce<bal\\xd8*X%\\x00\\x01q\\x12 T\\x82\\xd5\\xcf\\x08\\xfa\\x9e\\r\\x0f\\xbc\\xab%\\x07\\xf2\\xd4\\x19\\xf0\\xc5ZE\\xa0Gx\\xd2\\xac^\"\\x87\\xca\\x05\\xb0\\x84'),\n",
       "  Block(cid=CID('base58btc', 1, 'dag-cbor', '12202b8a271123ad447a901b830d1171f8d4451f1a73661f8ce97184f739abbce532'), data=b'\\xa2ae\\x8c\\xa4akX app.bsky.feed.like/3juiov5z2vs2sap\\x00at\\xd8*X%\\x00\\x01q\\x12 ^3\\xb1V\\xf8\\xe7T\\xaa\\x8fh^`^\\xad\\x9e\\xadq#>\\x1dOI;.^\\xfcZ!\\xa8\\xc2\\xf6iav\\xd8*X%\\x00\\x01q\\x12 \\xe4E\\x13\\xd1\\xed\\xaa\\xa3,\\xb4\\xbf\\xf7\\x13V\\xc3\\x93Yyt\\xfaE\\t\\x05\\xf9\\xd09\\xd6a\\x1b\\x8e\\xf79\\xae\\xa4akIprtnnvv2rap\\x17at\\xd8*X%\\x00\\x01q\\x12 \\x14\\xdc\\x9e\\xa2\\xef\\x93+P2\\x1f\\x04)T/\\x13\\xaa\\x8c\\x02RU\\xfcu\\xe5\\xed\\xd2\\xf0\\xfb4-.?\\x1dav\\xd8*X%\\x00\\x01q\\x12 \\xc9\\xd5\\xe8\\xe9X<\\x9ej\\xd6:d\\x10\\xa1J\\xb6&\\x12F\\xc8\\x00\\x9e\\x9a\\xe4\\xf8  \\xb6\\xe1WWO\\x91\\xa4akIqacqlxw2lap\\x17at\\xf6av\\xd8*X%\\x00\\x01q\\x12 Oz\\xc9X\\xb2/\\x83\\xf7\\xe3\\xe0\\xa1a%\\xaa\\xe5\\x9cyd2\"\\x8d1\\xea(\\xfe\\x98\\xae\\x88\\xe7(\\x01)\\xa4akIrd2mcqj2sap\\x17at\\xd8*X%\\x00\\x01q\\x12 \\x85K(\\x9bu\\x99\\x16u\\xecU@`\\x98Z\\x96\\xab$\\x98\\xc6\\x0e\\xff\\t\\x89L+\\xd8g\\x9c\\x9dh\\xf9Zav\\xd8*X%\\x00\\x01q\\x12 5\\xbd\"g\\xe0\\xd8\\xb0\\xdd%b{[\\xaf\\xab\\x85u\\x97k\\xc0QP\\xecJ\\x12\\x87\\x9fN\\x8a\\x13\\xc0\\xb0\\x80\\xa4akJjfev7cia26ap\\x16at\\xd8*X%\\x00\\x01q\\x12 \\x88\\x84\\xdf\\x02ev\\x93\\xf6\\x07M\\x87\\xd7\\x075>C\\xa9G\\x05\\x9fY4R)K\\xf6\\xa9\\xca\\xa5\\xda\\x80\\x8eav\\xd8*X%\\x00\\x01q\\x12 Y\\xc3\\xcb\\x12h\\x18\\xcb\\x1dq\\xbbA\\x87m\\xca\\xd2[\\xc5:-e\"\\xae\\xdc\\xaa\\x18\\n\\x10iy\\x1a.9\\xa4akRpost/3jufm4ea7jf2oap\\x0eat\\xd8*X%\\x00\\x01q\\x12 \\xa5y=\\x97\\xdbwM\\xf2[\\xff\\xc7\\xd6d\\xdf\\x87%\\xdd\\x91!\\x17\\xd98j\\x7f\\xc5\\xe7\\xfclJ@\\xc1\\x86av\\xd8*X%\\x00\\x01q\\x12 (1\\x1f,\\xa98r!\\x00\\xba.W\\x94\\xa1\\xfd\\xe4\\xd0\\xd8\\xf2\\xdcI\\xd9\\x97\\xdf\\xce6.G\\x99\\x1f\\xa2\\xbf\\xa4akHiijykk2oap\\x18\\x18at\\xf6av\\xd8*X%\\x00\\x01q\\x12 \\xb5\\x92p=\\xc6\\'*\\x00K\\x899\\x1884W\\xf0~\\xaf0m\\x97Z\\x1e{m\\xb0\\xb0*\\xe9\\xc8\\x14\\x7f\\xa4akHj4x3rm2pap\\x18\\x18at\\xd8*X%\\x00\\x01q\\x12 3\\xcc\\xb0\\x11\\xeb\\x1c\\x87b\\x9f\\xa7\\xd3\\xb7\\xc0\\xe4Tg\\xebHO\\xe9Y0\\x04w\\xc5U\\xfd\\xff4>\\x8c\\x1bav\\xd8*X%\\x00\\x01q\\x12 \\x07!j\\x7f\\xb2\\x80P\\xa38\\x16\\xd5\\x1eG\\ty\\xf75F9C{\\x9b\\xd6\\x14\\x10C\\xc1\\xe6\\xdd\\xd3>[\\xa4akHktcutg2zap\\x18\\x18at\\xd8*X%\\x00\\x01q\\x12 \\xe7\\x08\\x04\\xea\\xaaJS\\'\\xa0\\xeb\\xd7\\xb6\\x85\\xf6\\xbf\\xd1\\xc1g\\x18\\\\\\xc4\\xc1l\\x94m\\x81\\xca\\xec\\xda\\x05u\\x98av\\xd8*X%\\x00\\x01q\\x12 \\xa7\\xac% O\\xc9}\\xf3\\xcf\\x87\\xdf\\x19{\\x19\\xf2\\x15\\xa5\\xb3W\\xe0F\\x85\\x0c\\x9f\\x7f\\xd3<\\x84>z\\x0c6\\xa4akHmoy3l22eap\\x18\\x18at\\xf6av\\xd8*X%\\x00\\x01q\\x12 \\xf5Z}\\xf1>T\\xe7\\x8bPu\\x133\\xb5~2f\\xef\\xcf,6)\\x910\\xc7&\\xa3(\\xa2\\x16\\n\\x0f\\x80\\xa4akHonmswt2eap\\x18\\x18at\\xd8*X%\\x00\\x01q\\x12 \\\\\\x8b\\x96Fc\\xa8\\xdaT\\x06\\xccrp\\xe1\\n\\xa3m\\xd1\\x07q\\x07\\xa3\\xb5\\xa6>\\xf6\\x83{@\\xd8\\x1c\\x10 av\\xd8*X%\\x00\\x01q\\x12 \\r/R*\\xe6MK\\x1ak\\x10Ky\\x9d\\xbb\\xfe\\xda\\xe8\\x9a\\x84\\xe0\\x82\\xf9H\\xee\\x03H5S\\x02\\xda`\\xb6\\xa4akIn3giuzn2kap\\x17at\\xf6av\\xd8*X%\\x00\\x01q\\x12 \\xe7\\x0f\\x18\\xff\\xf1H\\x94BT\\x7fsE\\x8e\\'\\xa0\\x80s\\xc2\\xfd3\\xd94\\x18\\xc0A\\xd2F\\xc6@\\nR\\x87al\\xf6'),\n",
       "  Block(cid=CID('base58btc', 1, 'dag-cbor', '12208884df02657693f6074d87d707353e43a947059f593452294bf6a9caa5da808e'), data=b'\\xa2ae\\x87\\xa4akX app.bsky.feed.like/3jujfp7aqtm2sap\\x00at\\xf6av\\xd8*X%\\x00\\x01q\\x12 \"b\\xa81zbH-\\r\\x95yi\\xf4\\xca\\xfc\\xee\\x9f6\\x87\\xe7\\xab\\x0fw\\xca\\x13x\\xd8\\x9f^\\xd2\\xf1\\x94\\xa4akGomexo24ap\\x18\\x19at\\xf6av\\xd8*X%\\x00\\x01q\\x12 B$\\x98\\'\\xe1\\x970\\xeb\\x7f\\x91\\xc0o\\xa8{\\xdd\\x11\\xd3O\\x16\\xc7;\\xa4V\\x9e\\xacq+\\xeb>_\\xfb\\xbc\\xa4akHu2b2lt2gap\\x18\\x18at\\xf6av\\xd8*X%\\x00\\x01q\\x12 B|n\\x85\\x99\\x87\\x0chVn\\xf38\\x99K\\x15<\\xe5#_\\xf6\\xf7\\xc68Ou\\xe1[\\xd2\\x9aoF\\xa2\\xa4akRpost/3jufluij2un2oap\\x0eat\\xf6av\\xd8*X%\\x00\\x01q\\x12 f2H\\xd4\\x19\\xb0j\\xea\\xac\\xbe\\xb9\\xb6\\x04i\\tx\\x00\\xb4\\xfc\\xc2r\\xcc6Z0\\x98$\\xa8l\\xad\\xcb1\\xa4akHz775jw2oap\\x18\\x18at\\xf6av\\xd8*X%\\x00\\x01q\\x12 \\xa9\\x93\\x1a\\xb5%\\x1ac\\\\C\\xf6C\\xb1\\x81\\xd3\\xc9\\xa4\\xb1.O\\xd3\\xd6^\\xf2\\x83s~\\xa8\\xb2m\\xc8<\\xe8\\xa4akIm26nnee2pap\\x17at\\xf6av\\xd8*X%\\x00\\x01q\\x12 H\\xc8\\xaeJ%\\x84\\xffe\\xdb(D\\xb9\\xf6\\x9f\\xcf\\x84s\\xa8wq\\x8a\\x87\\x1d\\x06\\xcf_ySV\\x1d\\xbb\\x0e\\xa4akH46suvp2aap\\x18\\x18at\\xf6av\\xd8*X%\\x00\\x01q\\x12 P\\xbd\\x95\\x117ar\\xcb*\\xfa=\\xf4`\\x15\\xc8O\\xff\\xe9T\\xdb\\xaa\\xbc\\x04\\xc8\\x10\\xd8@\\xf5E\\x99\\x0cBal\\xf6'),\n",
       "  Block(cid=CID('base58btc', 1, 'dag-cbor', '1220ec64f0c1842af639fd4ce2702037085528c904169cd93e66f09fc4626ab07fe1'), data=b'\\xa5cdidx did:plc:tnvlrgeen4b5y4uzmvnrljb5csigX@\\xd7;\\xc3\\x16vGn\\xbd&YpL\\x9a\\x81z4\\xf4\\xe6\\xd7\\xac\\xa9\\xe8\\x16\\x1c\\x0fE]c\\xf1~\\xa8\\xa56\\x0cs\\xe1\\xf6q\\x0e\\xa6{\\xe1\\x05F\\xa9\\xb13qrO\\xb4q\\x16\\xa0\\\\*G\"|\\x95XZ\\xfa\\x1cddata\\xd8*X%\\x00\\x01q\\x12 \\xfa\\x9f\\x19\\x96\\xd8~\\x94\\x12\\xd8\\xb6\\xa7^D\\xa2\\x06\\xa3 \\xf7P\\xa1~\\x83\\x92\\x83`\\x7f\\x14\\xfer=\\x93\\x1fdprev\\xd8*X%\\x00\\x01q\\x12 \\xea\\x80q\\x13+GI\\xc97\\x0c\\xc9\\x852\\x9f\\x9b\\xd1<\\xf7MI\\x9bW\\x0c\\xe0{\\xb3\\x08\\xf5\\xe4\\xe5_\\x8fgversion\\x02')])"
      ]
     },
     "execution_count": 15,
     "metadata": {},
     "output_type": "execute_result"
    }
   ],
   "source": [
    "jjsample[0]"
   ]
  },
  {
   "cell_type": "code",
   "execution_count": 40,
   "metadata": {},
   "outputs": [
    {
     "name": "stdout",
     "output_type": "stream",
     "text": [
      "{'e': [{'k': b'app.bsky.feed.post/3ju4cmyhckr2g', 'p': 0, 't': None, 'v': CID('base58btc', 1, 'dag-cbor', '1220f18f8846aada47013fcae5bb29bfa6a5b8f262278a54f594ef49f0c5d33df1e2')}, {'k': b'zwligg2u', 'p': 24, 't': CID('base58btc', 1, 'dag-cbor', '122077325a338d27be114673e763e6166ab9c32e4e836d498087c4de8ff416f1a504'), 'v': CID('base58btc', 1, 'dag-cbor', '12206371eeea8021513029302c83568b0b5aeb11b1d810e799ea84a1e0fe28e71bbb')}, {'k': b'7gczavnc2x', 'p': 22, 't': CID('base58btc', 1, 'dag-cbor', '1220692e80c7cf2d64725fac787a5861024ea28081f040420354794e378e9516ae0f'), 'v': CID('base58btc', 1, 'dag-cbor', '1220373a47ede40cc4f61cba9613d213802af2ec61d2bc2c5342c81e149bf21939d9')}, {'k': b'ed4ymndj2o', 'p': 22, 't': CID('base58btc', 1, 'dag-cbor', '1220dd37f7eb33c33b5d07e4131c12153cd885cf00339df2ffe7a279c278af4ec36f'), 'v': CID('base58btc', 1, 'dag-cbor', '12207f56ac5e65d9d11c8e30abeb1ffa01745f0ba66390baa95e1571b85785cdff0b')}], 'l': CID('base58btc', 1, 'dag-cbor', '122096a9ecb892c3b8b4f5ef9affd7f2e7691f456032713e84a56c20680ff8a12ce7')}\n",
      "{'$type': 'app.bsky.feed.repost', 'subject': {'cid': 'bafyreifegf4f4p6pfmhwymtkyhlj23pymyganqrubla4jncvqffg25lfma', 'uri': 'at://did:plc:7r2fy3b4u7mmnhgbdxnflovv/app.bsky.feed.post/3jujh7vplh22r'}, 'createdAt': '2023-04-29T15:33:56.748Z'}\n",
      "{'text': '@pram11.bsky.social testing post', '$type': 'app.bsky.feed.post', 'facets': [{'$type': 'app.bsky.richtext.facet', 'index': {'byteEnd': 19, 'byteStart': 0}, 'features': [{'did': 'did:plc:eofx3etsknzh4bgikqjeshiu', '$type': 'app.bsky.richtext.facet#mention'}]}, {'$type': 'app.bsky.richtext.facet', 'index': {'byteEnd': 71, 'byteStart': 55}, 'features': [{'did': 'did:plc:eofx3etsknzh4bgikqjeshiu', '$type': 'app.bsky.richtext.facet#mention'}]}], 'createdAt': '2023-04-29T15:38:21.668Z'}\n",
      "{'text': 'melhor atividade! eu AMO', '$type': 'app.bsky.feed.post', 'reply': {'root': {'cid': 'bafyreif7qyuomsv5p5cxae5ibzkwniu2wwczsaga7eezhqvodqqg2o4rui', 'uri': 'at://did:plc:io5kzrizagutlrawyxc7yg2i/app.bsky.feed.post/3jujhsitxs32h'}, 'parent': {'cid': 'bafyreif7qyuomsv5p5cxae5ibzkwniu2wwczsaga7eezhqvodqqg2o4rui', 'uri': 'at://did:plc:io5kzrizagutlrawyxc7yg2i/app.bsky.feed.post/3jujhsitxs32h'}}, 'createdAt': '2023-04-29T15:43:21.505Z'}\n",
      "{'text': 'Pra quem está usando o greysky é importante criar um “app password” no bluesky pra evitar problemas com os dados', '$type': 'app.bsky.feed.post', 'createdAt': '2023-04-29T15:43:22.566Z'}\n"
     ]
    },
    {
     "data": {
      "text/plain": [
       "(16, 16)"
      ]
     },
     "execution_count": 40,
     "metadata": {},
     "output_type": "execute_result"
    }
   ],
   "source": [
    "from typing import Optional\n",
    "from pydantic import BaseModel\n",
    "from datetime import datetime\n",
    "from dateutil.parser import parse as parse_date\n",
    "\n",
    "\n",
    "class Like(BaseModel):\n",
    "    cid: str\n",
    "    path: str\n",
    "    action: str\n",
    "    repo: str\n",
    "    created_at: datetime\n",
    "\n",
    "class Follow(BaseModel):\n",
    "    cid: str\n",
    "    path: str\n",
    "    action: str\n",
    "    repo: str\n",
    "    subject: str\n",
    "    created_at: datetime\n",
    "\n",
    "class Post(BaseModel):\n",
    "    cid: Optional[str]\n",
    "    path: str\n",
    "    action: str\n",
    "    repo: str\n",
    "    created_at: datetime\n",
    "    text: str\n",
    "\n",
    "\n",
    "likes = []\n",
    "follows = []\n",
    "\n",
    "def dumb_iterator(items):\n",
    "    for kind, obj, roots, blocks in items:\n",
    "        if kind.get('t') != '#commit' or kind.get('op') != 1:\n",
    "            continue\n",
    "\n",
    "        ops = obj.get('ops')\n",
    "        if not ops:\n",
    "            continue\n",
    "\n",
    "        if 'app.bsky.feed.like' in ops[0]['path']:\n",
    "            like = Like(\n",
    "                cid=str(ops[0]['cid']),\n",
    "                path=ops[0]['path'],\n",
    "                action=ops[0]['action'],\n",
    "                repo=obj['repo'],\n",
    "                created_at=parse_date(obj['time'])\n",
    "            )\n",
    "            likes.append(like)\n",
    "        elif 'app.bsky.graph.follow' in ops[0]['path']:\n",
    "            follow = Follow(\n",
    "                cid=str(ops[0]['cid']),\n",
    "                path=ops[0]['path'],\n",
    "                action=ops[0]['action'],\n",
    "                repo=obj['repo'],\n",
    "                subject=blocks[0].decoded['subject'],\n",
    "                created_at=parse_date(obj['time'])\n",
    "            )\n",
    "            follows.append(follow)\n",
    "        else:\n",
    "            print(blocks[0].decoded)\n",
    "            pass\n",
    "\n",
    "        yield kind, obj, roots, blocks\n",
    "\n",
    "\n",
    "for lmao in dumb_iterator(sample):\n",
    "    pass\n",
    "\n",
    "len(likes), len(follows)"
   ]
  },
  {
   "cell_type": "code",
   "execution_count": 24,
   "metadata": {},
   "outputs": [
    {
     "data": {
      "text/plain": [
       "[Like(cid='zdpuAptySNpcJxsn1KuELBAMCo9wfeYPLRU9RuTFfMANCbzUZ', path='app.bsky.feed.like/3jujfu2b2lt2g', action='create', repo='did:plc:tnvlrgeen4b5y4uzmvnrljb5', created_at=datetime.datetime(2023, 4, 29, 15, 7, 50, 397000, tzinfo=tzutc())),\n",
       " Like(cid='zdpuAt72tLw3VKjwq9KaHowV9pdHDtEJouTYHx7kT7dDKnp9U', path='app.bsky.feed.like/3jujfwqusae23', action='create', repo='did:plc:buofnbcavecxm3kr6x5npusi', created_at=datetime.datetime(2023, 4, 29, 15, 9, 21, 269000, tzinfo=tzutc())),\n",
       " Like(cid='zdpuAkh5MyyH9ZLvn3buYavvK4J2BjyKvGkMj7WppHvJ694Pa', path='app.bsky.feed.like/3jujg6xc7nd2o', action='create', repo='did:plc:vazqcdlccpdlpqn5mki5dpy2', created_at=datetime.datetime(2023, 4, 29, 15, 13, 56, 379000, tzinfo=tzutc())),\n",
       " Like(cid='zdpuAtTmtQ42CwPQfBznDEk8hDdP7mKPr4qBsyVCqVZkaCm6s', path='app.bsky.feed.like/3jujgbhq7se2j', action='create', repo='did:plc:2toeszg7aqbwvfrsim3x6gh7', created_at=datetime.datetime(2023, 4, 29, 15, 15, 20, 744000, tzinfo=tzutc())),\n",
       " Like(cid='zdpuAkvkD7Tri7x4ZwoSYD19LQNAscTxMtFuBe3oAkUXwCKnF', path='app.bsky.feed.like/3jujghwds4l2o', action='create', repo='did:plc:2qawat476oohewk4chbltiez', created_at=datetime.datetime(2023, 4, 29, 15, 18, 57, 383000, tzinfo=tzutc())),\n",
       " Like(cid='zdpuAzz5feWhyPSNJghCTXrxTkzygMEM5hBp8BdJ1UBnzDgyN', path='app.bsky.feed.like/3jujgiwwlpo24', action='create', repo='did:plc:a53edwvj3537kxc7heefpsnr', created_at=datetime.datetime(2023, 4, 29, 15, 19, 31, 553000, tzinfo=tzutc())),\n",
       " Like(cid='zdpuAwiY2YxiWkMyuPaxu6cWQybKAJ5T167SNDoNLgWVAncvs', path='app.bsky.feed.like/3jujgxjlvhm2j', action='create', repo='did:plc:ftxfb3g7x56qiujgcu7ypahs', created_at=datetime.datetime(2023, 4, 29, 15, 27, 40, 902000, tzinfo=tzutc())),\n",
       " Like(cid='zdpuAodSu4GDVUudW3vqr8k3VmFnosYzTSR7Qdqii7DrNaQy8', path='app.bsky.feed.like/3jujgykp5xc2p', action='create', repo='did:plc:tgfzv5irks5acnmk75j4elky', created_at=datetime.datetime(2023, 4, 29, 15, 28, 15, 604000, tzinfo=tzutc())),\n",
       " Like(cid='zdpuAobSsehxUDmyyNZx3vTnF4zhM7uL7aCsRnAnz5CnPUL9k', path='app.bsky.feed.like/3jujgzsl23d2o', action='create', repo='did:plc:fwizb36zsc6so3b2yyk3yr2b', created_at=datetime.datetime(2023, 4, 29, 15, 28, 57, 400000, tzinfo=tzutc())),\n",
       " Like(cid='zdpuAuAj44kLM2SWrrZ5Vmt2wZA7CQM7Q7KUpH6q8YQC4bX1w', path='app.bsky.feed.like/3jujgzyo2ct2o', action='create', repo='did:plc:ocoqcmblonv3x3ffdztovf7t', created_at=datetime.datetime(2023, 4, 29, 15, 29, 3, 801000, tzinfo=tzutc())),\n",
       " Like(cid='zdpuAvWFpQ52MW8F2DjeV8oez1Lik1qPgAuqRhBHzMjAvAq4e', path='app.bsky.feed.like/3jujh2frarp23', action='create', repo='did:plc:fyru3vyxfa3fxmusd7xkve2k', created_at=datetime.datetime(2023, 4, 29, 15, 29, 17, 591000, tzinfo=tzutc())),\n",
       " Like(cid='zdpuAyB7Y7YXNPVAQdYdnAhdXH557PYVcqXmTJVM6J5LPfPH9', path='app.bsky.feed.like/3jujh3j7jat2o', action='create', repo='did:plc:h55dbmzzypr2hrxrjcjjcrq3', created_at=datetime.datetime(2023, 4, 29, 15, 29, 54, 699000, tzinfo=tzutc())),\n",
       " Like(cid='zdpuB2gWQgdQprvzGoAQbA7EirQd4qrLjPEzWSKrYFTX8wumw', path='app.bsky.feed.like/3jujheatisl2h', action='create', repo='did:plc:qiknc4t5rq7yngvz7g4aezq7', created_at=datetime.datetime(2023, 4, 29, 15, 34, 47, 925000, tzinfo=tzutc())),\n",
       " Like(cid='zdpuAzQiixxGBnrfDrQKzh6GMFcr9fHF8LEBKMZhDea12FtCw', path='app.bsky.feed.like/3jujhio5xyw2f', action='create', repo='did:plc:g527cbqyzyksmqb6gg6536l2', created_at=datetime.datetime(2023, 4, 29, 15, 37, 16, 108000, tzinfo=tzutc())),\n",
       " Like(cid='zdpuAp1MzdUMbwhTMCHXL1hP8D9Y66128C2ttsBbux6Fd9JqM', path='app.bsky.feed.like/3jujhkoukqe2p', action='create', repo='did:plc:shmrgxcweca376ogofvqryhp', created_at=datetime.datetime(2023, 4, 29, 15, 38, 23, 953000, tzinfo=tzutc())),\n",
       " Like(cid='zdpuAsuUtVaQAE4VzvmDVbyWUoBqvK3BSvKGJZm3949NXYo4y', path='app.bsky.feed.like/3jujhltvkot2g', action='create', repo='did:plc:qiknc4t5rq7yngvz7g4aezq7', created_at=datetime.datetime(2023, 4, 29, 15, 39, 2, 786000, tzinfo=tzutc()))]"
      ]
     },
     "execution_count": 24,
     "metadata": {},
     "output_type": "execute_result"
    }
   ],
   "source": [
    "likes"
   ]
  },
  {
   "cell_type": "code",
   "execution_count": null,
   "metadata": {},
   "outputs": [],
   "source": []
  }
 ],
 "metadata": {
  "kernelspec": {
   "display_name": "psychonaut-hgjsIY8y-py3.10",
   "language": "python",
   "name": "python3"
  },
  "language_info": {
   "codemirror_mode": {
    "name": "ipython",
    "version": 3
   },
   "file_extension": ".py",
   "mimetype": "text/x-python",
   "name": "python",
   "nbconvert_exporter": "python",
   "pygments_lexer": "ipython3",
   "version": "3.10.6"
  },
  "orig_nbformat": 4
 },
 "nbformat": 4,
 "nbformat_minor": 2
}
