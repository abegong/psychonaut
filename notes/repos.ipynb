{
 "cells": [
  {
   "cell_type": "code",
   "execution_count": 1,
   "metadata": {},
   "outputs": [],
   "source": [
    "# set the python path to the parent directory\n",
    "# this allows us to import from the psychonaut package\n",
    "import sys\n",
    "from pathlib import Path\n",
    "from pprint import pprint\n",
    "\n",
    "sys.path.append(str(Path.cwd().parent))\n",
    "\n",
    "from psychonaut.api.lexicons.com.atproto.repo.describe_repo import (\n",
    "    DescribeRepoReq,\n",
    "    describe_repo as describe_repo_f,\n",
    ")\n",
    "from psychonaut.client import get_ipynb_client_session"
   ]
  },
  {
   "cell_type": "code",
   "execution_count": 2,
   "metadata": {},
   "outputs": [],
   "source": [
    "sess = await get_ipynb_client_session()"
   ]
  },
  {
   "cell_type": "code",
   "execution_count": 3,
   "metadata": {},
   "outputs": [
    {
     "data": {
      "text/plain": [
       "'generativist.xyz'"
      ]
     },
     "execution_count": 3,
     "metadata": {},
     "output_type": "execute_result"
    }
   ],
   "source": [
    "my_did = \"generativist.xyz\"\n",
    "my_did"
   ]
  },
  {
   "cell_type": "code",
   "execution_count": 6,
   "metadata": {},
   "outputs": [
    {
     "name": "stdout",
     "output_type": "stream",
     "text": [
      "('{\"handle\": \"generativist.xyz\", \"did\": \"did:plc:o32okshy54r5h2vlrjpz3aln\", '\n",
      " '\"didDoc\": {\"@context\": [\"https://www.w3.org/ns/did/v1\", '\n",
      " '\"https://w3id.org/security/suites/secp256k1-2019/v1\"], \"id\": '\n",
      " '\"did:plc:o32okshy54r5h2vlrjpz3aln\", \"alsoKnownAs\": '\n",
      " '[\"at://generativist.xyz\"], \"verificationMethod\": [{\"id\": \"#atproto\", \"type\": '\n",
      " '\"EcdsaSecp256k1VerificationKey2019\", \"controller\": '\n",
      " '\"did:plc:o32okshy54r5h2vlrjpz3aln\", \"publicKeyMultibase\": '\n",
      " '\"zQYEBzXeuTM9UR3rfvNag6L3RNAs5pQZyYPsomTsgQhsxLdEgCrPTLgFna8yqCnxPpNT7DBk6Ym3dgPKNu86vt9GR\"}], '\n",
      " '\"service\": [{\"id\": \"#atproto_pds\", \"type\": \"AtprotoPersonalDataServer\", '\n",
      " '\"serviceEndpoint\": \"https://bsky.social\"}]}, \"collections\": '\n",
      " '[\"app.bsky.actor.profile\", \"app.bsky.feed.like\", \"app.bsky.feed.post\", '\n",
      " '\"app.bsky.feed.repost\", \"app.bsky.graph.follow\"], \"handleIsCorrect\": true}')\n"
     ]
    }
   ],
   "source": [
    "desc_rep_req = DescribeRepoReq(repo=my_did)\n",
    "desc_rep_resp = await describe_repo_f(sess, desc_rep_req)\n",
    "pprint(desc_rep_resp.json())"
   ]
  },
  {
   "cell_type": "code",
   "execution_count": null,
   "metadata": {},
   "outputs": [],
   "source": []
  }
 ],
 "metadata": {
  "kernelspec": {
   "display_name": "psychonaut-hgjsIY8y-py3.10",
   "language": "python",
   "name": "python3"
  },
  "language_info": {
   "codemirror_mode": {
    "name": "ipython",
    "version": 3
   },
   "file_extension": ".py",
   "mimetype": "text/x-python",
   "name": "python",
   "nbconvert_exporter": "python",
   "pygments_lexer": "ipython3",
   "version": "3.10.6"
  },
  "orig_nbformat": 4
 },
 "nbformat": 4,
 "nbformat_minor": 2
}
